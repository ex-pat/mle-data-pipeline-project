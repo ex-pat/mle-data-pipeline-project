{
 "cells": [
  {
   "attachments": {},
   "cell_type": "markdown",
   "metadata": {},
   "source": [
    "# SQL with Spark\n",
    "\n",
    "In this notebook, we will learn how to use SQL with Spark. We will again use the `Yellow Taxi` dataset, but this time not only on one month but a whole year and we will use Spark to load the data and then use SQL to query it.\n",
    "\n",
    "Let's load the data first:"
   ]
  },
  {
   "cell_type": "code",
   "execution_count": 1,
   "metadata": {},
   "outputs": [],
   "source": [
    "import os\n",
    "import pyspark\n",
    "from pyspark.sql import SparkSession\n",
    "import pyspark.sql.functions as F\n",
    "from pyspark.sql import types"
   ]
  },
  {
   "attachments": {},
   "cell_type": "markdown",
   "metadata": {},
   "source": [
    "Download the data:"
   ]
  },
  {
   "cell_type": "code",
   "execution_count": 2,
   "metadata": {},
   "outputs": [
    {
     "name": "stderr",
     "output_type": "stream",
     "text": [
      "--2023-07-07 14:17:14--  https://d37ci6vzurychx.cloudfront.net/trip-data/green_tripdata_2021-01.parquet\n",
      "Resolving d37ci6vzurychx.cloudfront.net (d37ci6vzurychx.cloudfront.net)... 143.204.101.20, 143.204.101.175, 143.204.101.63, ...\n",
      "Connecting to d37ci6vzurychx.cloudfront.net (d37ci6vzurychx.cloudfront.net)|143.204.101.20|:443... connected.\n",
      "HTTP request sent, awaiting response... 200 OK\n",
      "Length: 1333519 (1,3M) [binary/octet-stream]\n",
      "Saving to: ‘./data/2021/green_tripdata_2021-01.parquet.1’\n",
      "\n",
      "     0K .......... .......... .......... .......... ..........  3% 2,28M 1s\n",
      "    50K .......... .......... .......... .......... ..........  7% 4,44M 0s\n",
      "   100K .......... .......... .......... .......... .......... 11% 3,62M 0s\n",
      "   150K .......... .......... .......... .......... .......... 15% 8,83M 0s\n",
      "   200K .......... .......... .......... .......... .......... 19% 6,60M 0s\n",
      "   250K .......... .......... .......... .......... .......... 23% 4,99M 0s\n",
      "   300K .......... .......... .......... .......... .......... 26% 8,79M 0s\n",
      "   350K .......... .......... .......... .......... .......... 30% 3,46M 0s\n",
      "   400K .......... .......... .......... .......... .......... 34% 11,9M 0s\n",
      "   450K .......... .......... .......... .......... .......... 38% 8,62M 0s\n",
      "   500K .......... .......... .......... .......... .......... 42% 6,13M 0s\n",
      "   550K .......... .......... .......... .......... .......... 46% 8,20M 0s\n",
      "   600K .......... .......... .......... .......... .......... 49% 4,89M 0s\n",
      "   650K .......... .......... .......... .......... .......... 53% 17,9M 0s\n",
      "   700K .......... .......... .......... .......... .......... 57% 3,76M 0s\n",
      "   750K .......... .......... .......... .......... .......... 61% 5,53M 0s\n",
      "   800K .......... .......... .......... .......... .......... 65% 7,05M 0s\n",
      "   850K .......... .......... .......... .......... .......... 69% 10,9M 0s\n",
      "   900K .......... .......... .......... .......... .......... 72% 7,68M 0s\n",
      "   950K .......... .......... .......... .......... .......... 76% 10,9M 0s\n",
      "  1000K .......... .......... .......... .......... .......... 80% 11,9M 0s\n",
      "  1050K .......... .......... .......... .......... .......... 84% 3,60M 0s\n",
      "  1100K .......... .......... .......... .......... .......... 88% 12,8M 0s\n",
      "  1150K .......... .......... .......... .......... .......... 92% 4,05M 0s\n",
      "  1200K .......... .......... .......... .......... .......... 95% 24,5M 0s\n",
      "  1250K .......... .......... .......... .......... .......... 99% 3,88M 0s\n",
      "  1300K ..                                                    100% 45,3K=0,2s\n",
      "\n",
      "2023-07-07 14:17:14 (5,87 MB/s) - ‘./data/2021/green_tripdata_2021-01.parquet.1’ saved [1333519/1333519]\n",
      "\n",
      "--2023-07-07 14:17:14--  https://d37ci6vzurychx.cloudfront.net/trip-data/green_tripdata_2021-02.parquet\n",
      "Resolving d37ci6vzurychx.cloudfront.net (d37ci6vzurychx.cloudfront.net)... 143.204.101.20, 143.204.101.175, 143.204.101.63, ...\n",
      "Connecting to d37ci6vzurychx.cloudfront.net (d37ci6vzurychx.cloudfront.net)|143.204.101.20|:443... connected.\n",
      "HTTP request sent, awaiting response... 200 OK\n",
      "Length: 1145679 (1,1M) [binary/octet-stream]\n",
      "Saving to: ‘./data/2021/green_tripdata_2021-02.parquet.1’\n",
      "\n",
      "     0K .......... .......... .......... .......... ..........  4% 2,50M 0s\n",
      "    50K .......... .......... .......... .......... ..........  8% 5,52M 0s\n",
      "   100K .......... .......... .......... .......... .......... 13% 3,68M 0s\n",
      "   150K .......... .......... .......... .......... .......... 17% 12,0M 0s\n",
      "   200K .......... .......... .......... .......... .......... 22% 5,92M 0s\n",
      "   250K .......... .......... .......... .......... .......... 26% 8,40M 0s\n",
      "   300K .......... .......... .......... .......... .......... 31% 5,46M 0s\n",
      "   350K .......... .......... .......... .......... .......... 35% 5,61M 0s\n",
      "   400K .......... .......... .......... .......... .......... 40% 25,8M 0s\n",
      "   450K .......... .......... .......... .......... .......... 44% 2,90M 0s\n",
      "   500K .......... .......... .......... .......... .......... 49% 6,59M 0s\n",
      "   550K .......... .......... .......... .......... .......... 53% 7,42M 0s\n",
      "   600K .......... .......... .......... .......... .......... 58% 12,0M 0s\n",
      "   650K .......... .......... .......... .......... .......... 62% 8,99M 0s\n",
      "   700K .......... .......... .......... .......... .......... 67% 7,21M 0s\n",
      "   750K .......... .......... .......... .......... .......... 71% 10,9M 0s\n",
      "   800K .......... .......... .......... .......... .......... 75% 6,32M 0s\n",
      "   850K .......... .......... .......... .......... .......... 80% 13,7M 0s\n",
      "   900K .......... .......... .......... .......... .......... 84% 9,94M 0s\n",
      "   950K .......... .......... .......... .......... .......... 89% 6,24M 0s\n",
      "  1000K .......... .......... .......... .......... .......... 93% 26,2M 0s\n",
      "  1050K .......... .......... .......... .......... .......... 98% 7,52M 0s\n",
      "  1100K .......... ........                                   100%  140M=0,2s\n",
      "\n",
      "2023-07-07 14:17:14 (6,69 MB/s) - ‘./data/2021/green_tripdata_2021-02.parquet.1’ saved [1145679/1145679]\n",
      "\n",
      "--2023-07-07 14:17:14--  https://d37ci6vzurychx.cloudfront.net/trip-data/green_tripdata_2021-03.parquet\n",
      "Resolving d37ci6vzurychx.cloudfront.net (d37ci6vzurychx.cloudfront.net)... 143.204.101.20, 143.204.101.175, 143.204.101.63, ...\n",
      "Connecting to d37ci6vzurychx.cloudfront.net (d37ci6vzurychx.cloudfront.net)|143.204.101.20|:443... connected.\n",
      "HTTP request sent, awaiting response... 200 OK\n",
      "Length: 1474538 (1,4M) [binary/octet-stream]\n",
      "Saving to: ‘./data/2021/green_tripdata_2021-03.parquet.1’\n",
      "\n",
      "     0K .......... .......... .......... .......... ..........  3% 2,06M 1s\n",
      "    50K .......... .......... .......... .......... ..........  6% 5,76M 0s\n",
      "   100K .......... .......... .......... .......... .......... 10% 3,77M 0s\n",
      "   150K .......... .......... .......... .......... .......... 13% 3,31M 0s\n",
      "   200K .......... .......... .......... .......... .......... 17% 10,2M 0s\n",
      "   250K .......... .......... .......... .......... .......... 20% 6,04M 0s\n",
      "   300K .......... .......... .......... .......... .......... 24% 4,49M 0s\n",
      "   350K .......... .......... .......... .......... .......... 27% 10,0M 0s\n",
      "   400K .......... .......... .......... .......... .......... 31% 12,3M 0s\n",
      "   450K .......... .......... .......... .......... .......... 34% 11,3M 0s\n",
      "   500K .......... .......... .......... .......... .......... 38% 6,13M 0s\n",
      "   550K .......... .......... .......... .......... .......... 41% 5,96M 0s\n",
      "   600K .......... .......... .......... .......... .......... 45% 6,52M 0s\n",
      "   650K .......... .......... .......... .......... .......... 48% 6,41M 0s\n",
      "   700K .......... .......... .......... .......... .......... 52% 10,2M 0s\n",
      "   750K .......... .......... .......... .......... .......... 55% 14,2M 0s\n",
      "   800K .......... .......... .......... .......... .......... 59% 12,0M 0s\n",
      "   850K .......... .......... .......... .......... .......... 62% 11,4M 0s\n",
      "   900K .......... .......... .......... .......... .......... 65% 14,9M 0s\n",
      "   950K .......... .......... .......... .......... .......... 69% 5,74M 0s\n",
      "  1000K .......... .......... .......... .......... .......... 72% 8,82M 0s\n",
      "  1050K .......... .......... .......... .......... .......... 76% 7,01M 0s\n",
      "  1100K .......... .......... .......... .......... .......... 79% 21,8M 0s\n",
      "  1150K .......... .......... .......... .......... .......... 83% 7,54M 0s\n",
      "  1200K .......... .......... .......... .......... .......... 86% 4,71M 0s\n",
      "  1250K .......... .......... .......... .......... .......... 90% 9,31M 0s\n",
      "  1300K .......... .......... .......... .......... .......... 93% 3,44M 0s\n",
      "  1350K .......... .......... .......... .......... .......... 97% 8,01M 0s\n",
      "  1400K .......... .......... .......... .........            100% 4,55M=0,2s\n",
      "\n",
      "2023-07-07 14:17:15 (6,33 MB/s) - ‘./data/2021/green_tripdata_2021-03.parquet.1’ saved [1474538/1474538]\n",
      "\n"
     ]
    }
   ],
   "source": [
    "for month in range(1,4):\n",
    "    url = f'https://d37ci6vzurychx.cloudfront.net/trip-data/green_tripdata_2021-0{month}.parquet'\n",
    "    os.system(f'wget -P ./data/2021 {url}')\n",
    "    "
   ]
  },
  {
   "attachments": {},
   "cell_type": "markdown",
   "metadata": {},
   "source": [
    "Create a Spark Session:"
   ]
  },
  {
   "cell_type": "code",
   "execution_count": 3,
   "metadata": {},
   "outputs": [
    {
     "name": "stderr",
     "output_type": "stream",
     "text": [
      "23/07/07 14:17:41 WARN Utils: Your hostname, Johanns-MacBook-Air.local resolves to a loopback address: 127.0.0.1; using 192.168.1.127 instead (on interface en0)\n",
      "23/07/07 14:17:41 WARN Utils: Set SPARK_LOCAL_IP if you need to bind to another address\n",
      "Setting default log level to \"WARN\".\n",
      "To adjust logging level use sc.setLogLevel(newLevel). For SparkR, use setLogLevel(newLevel).\n",
      "23/07/07 14:17:42 WARN NativeCodeLoader: Unable to load native-hadoop library for your platform... using builtin-java classes where applicable\n"
     ]
    }
   ],
   "source": [
    "spark = SparkSession.builder \\\n",
    "    .master(\"local[*]\") \\\n",
    "    .appName('Green Taxi 2021') \\\n",
    "    .getOrCreate()"
   ]
  },
  {
   "attachments": {},
   "cell_type": "markdown",
   "metadata": {},
   "source": [
    "Load the data, convert the `double` type columns to `float` and partition it:"
   ]
  },
  {
   "cell_type": "code",
   "execution_count": 4,
   "metadata": {},
   "outputs": [
    {
     "name": "stdout",
     "output_type": "stream",
     "text": [
      "processing data for 2021/1\n"
     ]
    },
    {
     "name": "stderr",
     "output_type": "stream",
     "text": [
      "                                                                                \r"
     ]
    },
    {
     "name": "stdout",
     "output_type": "stream",
     "text": [
      "processing data for 2021/2\n"
     ]
    },
    {
     "name": "stderr",
     "output_type": "stream",
     "text": [
      "                                                                                \r"
     ]
    },
    {
     "name": "stdout",
     "output_type": "stream",
     "text": [
      "processing data for 2021/3\n"
     ]
    }
   ],
   "source": [
    "\n",
    "for month in range(1,4):\n",
    "    print(f'processing data for 2021/{month}')\n",
    "    input_path = f'./data/2021/green_tripdata_2021-0{month}.parquet'\n",
    "    output_path = f'./data/2021/partitioned/green_tripdata_2021-0{month}.parquet'\n",
    "    \n",
    "    df = spark.read \\\n",
    "        .parquet(input_path)\n",
    "    \n",
    "    # convert the double to float\n",
    "    for col in df.columns:\n",
    "        if df.schema[col].dataType == types.DoubleType():\n",
    "            df = df.withColumn(col, F.col(col).cast('float'))\n",
    "    \n",
    "    \n",
    "    df.repartition(4)\\\n",
    "        .write \\\n",
    "        .parquet(output_path)\n",
    "        "
   ]
  },
  {
   "attachments": {},
   "cell_type": "markdown",
   "metadata": {},
   "source": [
    "Now we can import the whole dataset into a Spark DataFrame:"
   ]
  },
  {
   "cell_type": "code",
   "execution_count": 5,
   "metadata": {},
   "outputs": [],
   "source": [
    "df = spark.read \\\n",
    "    .parquet('./data/2021/partitioned/*')"
   ]
  },
  {
   "cell_type": "code",
   "execution_count": 6,
   "metadata": {},
   "outputs": [
    {
     "name": "stdout",
     "output_type": "stream",
     "text": [
      "root\n",
      " |-- VendorID: long (nullable = true)\n",
      " |-- lpep_pickup_datetime: timestamp_ntz (nullable = true)\n",
      " |-- lpep_dropoff_datetime: timestamp_ntz (nullable = true)\n",
      " |-- store_and_fwd_flag: string (nullable = true)\n",
      " |-- RatecodeID: float (nullable = true)\n",
      " |-- PULocationID: long (nullable = true)\n",
      " |-- DOLocationID: long (nullable = true)\n",
      " |-- passenger_count: float (nullable = true)\n",
      " |-- trip_distance: float (nullable = true)\n",
      " |-- fare_amount: float (nullable = true)\n",
      " |-- extra: float (nullable = true)\n",
      " |-- mta_tax: float (nullable = true)\n",
      " |-- tip_amount: float (nullable = true)\n",
      " |-- tolls_amount: float (nullable = true)\n",
      " |-- ehail_fee: integer (nullable = true)\n",
      " |-- improvement_surcharge: float (nullable = true)\n",
      " |-- total_amount: float (nullable = true)\n",
      " |-- payment_type: float (nullable = true)\n",
      " |-- trip_type: float (nullable = true)\n",
      " |-- congestion_surcharge: float (nullable = true)\n",
      "\n"
     ]
    }
   ],
   "source": [
    "df.printSchema()"
   ]
  },
  {
   "attachments": {},
   "cell_type": "markdown",
   "metadata": {},
   "source": [
    "How many rows do we have?"
   ]
  },
  {
   "cell_type": "code",
   "execution_count": 7,
   "metadata": {},
   "outputs": [
    {
     "data": {
      "text/plain": [
       "224917"
      ]
     },
     "execution_count": 7,
     "metadata": {},
     "output_type": "execute_result"
    }
   ],
   "source": [
    "df.count()"
   ]
  },
  {
   "attachments": {},
   "cell_type": "markdown",
   "metadata": {},
   "source": [
    "Nearly 31 million rows! That’s a lot of data. Let’s take a look at the first 5 rows."
   ]
  },
  {
   "cell_type": "code",
   "execution_count": 8,
   "metadata": {},
   "outputs": [
    {
     "name": "stdout",
     "output_type": "stream",
     "text": [
      "+--------+--------------------+---------------------+------------------+----------+------------+------------+---------------+-------------+-----------+-----+-------+----------+------------+---------+---------------------+------------+------------+---------+--------------------+\n",
      "|VendorID|lpep_pickup_datetime|lpep_dropoff_datetime|store_and_fwd_flag|RatecodeID|PULocationID|DOLocationID|passenger_count|trip_distance|fare_amount|extra|mta_tax|tip_amount|tolls_amount|ehail_fee|improvement_surcharge|total_amount|payment_type|trip_type|congestion_surcharge|\n",
      "+--------+--------------------+---------------------+------------------+----------+------------+------------+---------------+-------------+-----------+-----+-------+----------+------------+---------+---------------------+------------+------------+---------+--------------------+\n",
      "|       2| 2021-03-17 04:37:00|  2021-03-17 04:47:00|              null|      null|         135|           9|           null|         2.37|      19.34| 2.75|    0.0|       0.0|         0.0|     null|                  0.3|       22.39|        null|     null|                null|\n",
      "|       2| 2021-03-29 12:36:00|  2021-03-29 12:52:00|              null|      null|         174|         212|           null|         4.72|      23.09| 2.75|    0.0|       0.0|         0.0|     null|                  0.3|       26.14|        null|     null|                null|\n",
      "|       2| 2021-03-26 07:28:53|  2021-03-26 07:42:07|                 N|       1.0|          75|         151|            1.0|         2.16|       11.0|  0.0|    0.5|       0.0|         0.0|     null|                  0.3|        11.8|         1.0|      1.0|                 0.0|\n",
      "|       1| 2021-03-27 10:52:59|  2021-03-27 11:03:29|                 N|       1.0|          41|         238|            1.0|          1.9|        9.5| 2.75|    0.5|       2.0|         0.0|     null|                  0.3|       15.05|         1.0|      1.0|                2.75|\n",
      "|       2| 2021-03-02 09:48:00|  2021-03-02 09:55:00|              null|      null|         228|          14|           null|          1.1|      15.45| 2.75|    0.0|       0.0|         0.0|     null|                  0.3|        18.5|        null|     null|                null|\n",
      "+--------+--------------------+---------------------+------------------+----------+------------+------------+---------------+-------------+-----------+-----+-------+----------+------------+---------+---------------------+------------+------------+---------+--------------------+\n",
      "only showing top 5 rows\n",
      "\n"
     ]
    }
   ],
   "source": [
    "df.show(5)"
   ]
  },
  {
   "attachments": {},
   "cell_type": "markdown",
   "metadata": {},
   "source": [
    "Now let's rename a few columns:"
   ]
  },
  {
   "cell_type": "code",
   "execution_count": 9,
   "metadata": {},
   "outputs": [],
   "source": [
    "df = df \\\n",
    "    .withColumnRenamed('lpep_pickup_datetime', 'pickup_datetime') \\\n",
    "    .withColumnRenamed('lpep_dropoff_datetime', 'dropoff_datetime')\\\n",
    "    .withColumnRenamed('PULocationID', 'pickup_location_id')\\\n",
    "    .withColumnRenamed('DOLocationID', 'dropoff_location_id')"
   ]
  },
  {
   "attachments": {},
   "cell_type": "markdown",
   "metadata": {},
   "source": [
    "To be able to use SQL with Spark, we need to create a temporary table of the DataFrame:"
   ]
  },
  {
   "cell_type": "code",
   "execution_count": 11,
   "metadata": {},
   "outputs": [],
   "source": [
    "df.registerTempTable('taxi_trips')"
   ]
  },
  {
   "attachments": {},
   "cell_type": "markdown",
   "metadata": {},
   "source": [
    "And now we can query the data using SQL:"
   ]
  },
  {
   "cell_type": "code",
   "execution_count": 12,
   "metadata": {},
   "outputs": [
    {
     "name": "stdout",
     "output_type": "stream",
     "text": [
      "+--------+-------------------+-------------------+------------------+----------+------------------+-------------------+---------------+-------------+-----------+-----+-------+----------+------------+---------+---------------------+------------+------------+---------+--------------------+\n",
      "|VendorID|    pickup_datetime|   dropoff_datetime|store_and_fwd_flag|RatecodeID|pickup_location_id|dropoff_location_id|passenger_count|trip_distance|fare_amount|extra|mta_tax|tip_amount|tolls_amount|ehail_fee|improvement_surcharge|total_amount|payment_type|trip_type|congestion_surcharge|\n",
      "+--------+-------------------+-------------------+------------------+----------+------------------+-------------------+---------------+-------------+-----------+-----+-------+----------+------------+---------+---------------------+------------+------------+---------+--------------------+\n",
      "|       2|2021-03-17 04:37:00|2021-03-17 04:47:00|              null|      null|               135|                  9|           null|         2.37|      19.34| 2.75|    0.0|       0.0|         0.0|     null|                  0.3|       22.39|        null|     null|                null|\n",
      "|       2|2021-03-29 12:36:00|2021-03-29 12:52:00|              null|      null|               174|                212|           null|         4.72|      23.09| 2.75|    0.0|       0.0|         0.0|     null|                  0.3|       26.14|        null|     null|                null|\n",
      "|       2|2021-03-26 07:28:53|2021-03-26 07:42:07|                 N|       1.0|                75|                151|            1.0|         2.16|       11.0|  0.0|    0.5|       0.0|         0.0|     null|                  0.3|        11.8|         1.0|      1.0|                 0.0|\n",
      "|       1|2021-03-27 10:52:59|2021-03-27 11:03:29|                 N|       1.0|                41|                238|            1.0|          1.9|        9.5| 2.75|    0.5|       2.0|         0.0|     null|                  0.3|       15.05|         1.0|      1.0|                2.75|\n",
      "|       2|2021-03-02 09:48:00|2021-03-02 09:55:00|              null|      null|               228|                 14|           null|          1.1|      15.45| 2.75|    0.0|       0.0|         0.0|     null|                  0.3|        18.5|        null|     null|                null|\n",
      "+--------+-------------------+-------------------+------------------+----------+------------------+-------------------+---------------+-------------+-----------+-----+-------+----------+------------+---------+---------------------+------------+------------+---------+--------------------+\n",
      "\n"
     ]
    }
   ],
   "source": [
    "spark.sql(\"SELECT * FROM taxi_trips LIMIT 5\").show()"
   ]
  },
  {
   "attachments": {},
   "cell_type": "markdown",
   "metadata": {},
   "source": [
    "If we wanted to use SQL for example to create a Revenue per Month Report, we could do it like this:"
   ]
  },
  {
   "cell_type": "code",
   "execution_count": 17,
   "metadata": {},
   "outputs": [],
   "source": [
    "df_result_monthly = spark.sql(\"\"\"\n",
    "SELECT \n",
    "    -- Reveneue grouping \n",
    "    pickup_location_id AS revenue_zone,\n",
    "    date_trunc('month', pickup_datetime) AS revenue_month, \n",
    "\n",
    "    -- Revenue calculation \n",
    "    SUM(fare_amount) AS revenue_monthly_fare,\n",
    "    SUM(extra) AS revenue_monthly_extra,\n",
    "    SUM(mta_tax) AS revenue_monthly_mta_tax,\n",
    "    SUM(tip_amount) AS revenue_monthly_tip_amount,\n",
    "    SUM(tolls_amount) AS revenue_monthly_tolls_amount,\n",
    "    SUM(improvement_surcharge) AS revenue_monthly_improvement_surcharge,\n",
    "    SUM(total_amount) AS revenue_monthly_total_amount,\n",
    "    SUM(congestion_surcharge) AS revenue_monthly_congestion_surcharge,\n",
    "\n",
    "    -- Additional calculations\n",
    "    AVG(passenger_count) AS avg_montly_passenger_count,\n",
    "    AVG(trip_distance) AS avg_montly_trip_distance\n",
    "FROM\n",
    "    taxi_trips\n",
    "GROUP BY\n",
    "    1, 2\n",
    "\"\"\")"
   ]
  },
  {
   "attachments": {},
   "cell_type": "markdown",
   "metadata": {},
   "source": [
    "If we wanted to use SQL for example to create a **Revenue per Day Report**, we could do it like this:"
   ]
  },
  {
   "cell_type": "code",
   "execution_count": 30,
   "metadata": {},
   "outputs": [],
   "source": [
    "df_result = spark.sql(\"\"\"\n",
    "SELECT \n",
    "    -- Revenue grouping \n",
    "    pickup_location_id AS revenue_zone,\n",
    "    date_trunc('day', pickup_datetime) AS revenue_day,  -- Change to 'day' for revenue per day\n",
    "\n",
    "    -- Revenue calculation \n",
    "    SUM(fare_amount) AS revenue_daily_fare,\n",
    "    SUM(extra) AS revenue_daily_extra,\n",
    "    SUM(mta_tax) AS revenue_daily_mta_tax,\n",
    "    SUM(tip_amount) AS revenue_daily_tip_amount,\n",
    "    SUM(tolls_amount) AS revenue_daily_tolls_amount,\n",
    "    SUM(improvement_surcharge) AS revenue_daily_improvement_surcharge,\n",
    "    SUM(total_amount) AS revenue_daily_total_amount,\n",
    "    SUM(congestion_surcharge) AS revenue_daily_congestion_surcharge,\n",
    "\n",
    "    -- Additional calculations\n",
    "    AVG(passenger_count) AS avg_daily_passenger_count,\n",
    "    AVG(trip_distance) AS avg_daily_trip_distance\n",
    "FROM\n",
    "    taxi_trips\n",
    "GROUP BY\n",
    "    1, 2\n",
    "\"\"\")\n"
   ]
  },
  {
   "cell_type": "code",
   "execution_count": 31,
   "metadata": {},
   "outputs": [
    {
     "name": "stdout",
     "output_type": "stream",
     "text": [
      "+------------+-------------------+------------------+-------------------+---------------------+------------------------+--------------------------+-----------------------------------+--------------------------+----------------------------------+-------------------------+-----------------------+\n",
      "|revenue_zone|        revenue_day|revenue_daily_fare|revenue_daily_extra|revenue_daily_mta_tax|revenue_daily_tip_amount|revenue_daily_tolls_amount|revenue_daily_improvement_surcharge|revenue_daily_total_amount|revenue_daily_congestion_surcharge|avg_daily_passenger_count|avg_daily_trip_distance|\n",
      "+------------+-------------------+------------------+-------------------+---------------------+------------------------+--------------------------+-----------------------------------+--------------------------+----------------------------------+-------------------------+-----------------------+\n",
      "|          69|2021-03-10 00:00:00|503.46000480651855|               40.5|                  2.0|      1.2799999713897705|         6.119999885559082|                  6.900000274181366|         560.2599973678589|                               0.0|       1.4285714285714286|      4.459565196348273|\n",
      "|          97|2021-03-19 00:00:00|1183.4799947738647|  84.45000004768372|                 18.0|       54.12000024318695|        12.239999771118164|                 18.600000739097595|        1386.3900060653687|                              11.0|       1.1111111111111112|     3.5830645299246235|\n",
      "|          97|2021-03-08 00:00:00| 940.0600023269653|              75.25|                 16.5|       58.21000013500452|                       0.0|                 16.200000643730164|         1114.470004081726|                             13.75|       1.0571428571428572|      3.245535689805235|\n",
      "|          74|2021-03-21 00:00:00| 2289.650002479553|              93.25|                 91.0|      247.24000027775764|         55.07999897003174|                  59.40000236034393|         2967.620004415512|                             165.0|       1.2252747252747254|     2.7099494844336403|\n",
      "|          65|2021-03-27 00:00:00|1014.3000011444092|               26.5|                 27.5|       152.8899998664856|                       0.0|                 19.200000762939453|        1245.8899984359741|                              8.25|        1.309090909090909|     3.6460937382653356|\n",
      "+------------+-------------------+------------------+-------------------+---------------------+------------------------+--------------------------+-----------------------------------+--------------------------+----------------------------------+-------------------------+-----------------------+\n",
      "only showing top 5 rows\n",
      "\n"
     ]
    }
   ],
   "source": [
    "df_result.show(5)"
   ]
  },
  {
   "cell_type": "code",
   "execution_count": 28,
   "metadata": {},
   "outputs": [
    {
     "name": "stdout",
     "output_type": "stream",
     "text": [
      "+------------+-------------------+--------------------+---------------------+-----------------------+--------------------------+----------------------------+-------------------------------------+----------------------------+------------------------------------+--------------------------+------------------------+\n",
      "|revenue_zone|      revenue_month|revenue_monthly_fare|revenue_monthly_extra|revenue_monthly_mta_tax|revenue_monthly_tip_amount|revenue_monthly_tolls_amount|revenue_monthly_improvement_surcharge|revenue_monthly_total_amount|revenue_monthly_congestion_surcharge|avg_montly_passenger_count|avg_montly_trip_distance|\n",
      "+------------+-------------------+--------------------+---------------------+-----------------------+--------------------------+----------------------------+-------------------------------------+----------------------------+------------------------------------+--------------------------+------------------------+\n",
      "|         162|2021-03-01 00:00:00|  1032.8099975585938|    82.45000004768372|                    0.0|                       0.0|           88.47999835014343|                    9.300000369548798|          1213.0399961471558|                                null|                      null|       9.392258078821245|\n",
      "|         262|2021-03-01 00:00:00|   699.6199979782104|    50.10000002384186|                    3.0|                       0.0|           36.71999931335449|                    7.200000286102295|           799.3899927139282|                                2.75|                       1.0|       6.742083395520846|\n",
      "|         246|2021-03-01 00:00:00|   693.6100053787231|    68.70000004768372|                    0.0|                       0.0|          24.479999542236328|                    6.900000274181366|           793.6900024414062|                                null|                      null|       7.948260891696681|\n",
      "|         195|2021-03-01 00:00:00|  2826.1900129318237|    241.0400002002716|                    9.5|         91.19000101089478|           75.72999858856201|                    33.60000133514404|           3289.400009870529|                                8.25|        1.1071428571428572|      5.6983035816811025|\n",
      "|          32|2021-03-01 00:00:00|   6109.069980621338|    614.6500000953674|                    6.0|         28.46999979019165|           261.5699951648712|                    69.60000276565552|           7092.110042095184|                                 0.0|        1.1538461538461537|       5.844870695009313|\n",
      "+------------+-------------------+--------------------+---------------------+-----------------------+--------------------------+----------------------------+-------------------------------------+----------------------------+------------------------------------+--------------------------+------------------------+\n",
      "only showing top 5 rows\n",
      "\n"
     ]
    }
   ],
   "source": [
    "df_result_monthly.show(5)"
   ]
  },
  {
   "attachments": {},
   "cell_type": "markdown",
   "metadata": {},
   "source": [
    "You can have a look at the [UI](http://localhost:4040/SQL/) to see the SQL query and the execution plan.\n",
    "\n",
    "We can now export the data into a new parquet file with coalesced partitions (coalescing reduces the number of partitions by moving the data into the minimum number of partitions):"
   ]
  },
  {
   "cell_type": "code",
   "execution_count": 32,
   "metadata": {},
   "outputs": [
    {
     "name": "stderr",
     "output_type": "stream",
     "text": [
      "                                                                                \r"
     ]
    }
   ],
   "source": [
    "output = './data/report/green_taxi_2021.parquet'\n",
    "\n",
    "df_result.coalesce(1) \\\n",
    "    .write.parquet(output, mode='overwrite')"
   ]
  }
 ],
 "metadata": {
  "kernelspec": {
   "display_name": ".venv",
   "language": "python",
   "name": "python3"
  },
  "language_info": {
   "codemirror_mode": {
    "name": "ipython",
    "version": 3
   },
   "file_extension": ".py",
   "mimetype": "text/x-python",
   "name": "python",
   "nbconvert_exporter": "python",
   "pygments_lexer": "ipython3",
   "version": "3.11.3"
  },
  "orig_nbformat": 4
 },
 "nbformat": 4,
 "nbformat_minor": 2
}
